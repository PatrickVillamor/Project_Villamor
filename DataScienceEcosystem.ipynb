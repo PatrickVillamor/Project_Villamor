{
 "cells": [
  {
   "cell_type": "markdown",
   "id": "7a52e347-bc12-4933-b06f-920c522b2f6f",
   "metadata": {},
   "source": [
    "# Data Science Tools and Ecosystem"
   ]
  },
  {
   "cell_type": "markdown",
   "id": "5323ad5e-fa2a-4fb1-8491-6f7289c4501e",
   "metadata": {},
   "source": [
    "In this notebook, Data Science Tools and Ecosystem are summarized"
   ]
  },
  {
   "cell_type": "markdown",
   "id": "7fa63fac-6b08-4a36-9fad-9c287ed1a6e8",
   "metadata": {
    "tags": []
   },
   "source": [
    "**Objectives:**\n",
    "- Phython Language\n",
    "- R Language\n",
    "- Julia\n",
    "- SQL\n",
    "- javaScript\n",
    "- C++"
   ]
  },
  {
   "cell_type": "markdown",
   "id": "9dc719f4-05f3-4d4f-8bcc-407b550220e0",
   "metadata": {},
   "source": [
    "Some of the popular language that Data Scientist use are:\n",
    "\n",
    "order list\n",
    "1. Phython Language\n",
    "2. R Language\n",
    "3. Julia\n",
    "4. SQL\n",
    "5. JavaScript\n",
    "6. C++"
   ]
  },
  {
   "cell_type": "markdown",
   "id": "6c9d01cb-b885-46d0-8d1d-d8aaee1cb393",
   "metadata": {},
   "source": [
    "Some of the commonly used libraries used by Data Scientists use are:\n",
    "\n",
    "order list\n",
    "1. Pandas\n",
    "2. NumPy\n",
    "3. Matplotlib\n",
    "4. Seaborn\n",
    "5. Scikit-learn\n",
    "6. Keras\n",
    "7. Apache Spark\n",
    "8. Scala\n",
    "9. The Spark"
   ]
  },
  {
   "cell_type": "markdown",
   "id": "45e54e7c-4f32-4bcc-9951-e3a6e3cd6af5",
   "metadata": {},
   "source": [
    "|Data Science Tools|\n",
    "|------------------|\n",
    "|Phython Language|\n",
    "|R Language|\n",
    "|SQL|"
   ]
  },
  {
   "cell_type": "markdown",
   "id": "64b7d68a-e58b-4719-b62f-22bbb153989d",
   "metadata": {},
   "source": [
    "### Below are a few examples of evaluating arithmetic expressions in Phython"
   ]
  },
  {
   "cell_type": "markdown",
   "id": "69c35763-7243-4743-a506-9749f649106c",
   "metadata": {},
   "source": [
    "This a simple arithmetic expression to multiply then ad integers"
   ]
  },
  {
   "cell_type": "code",
   "execution_count": 1,
   "id": "0b792b65-74eb-4837-b497-17424e8c25fa",
   "metadata": {
    "tags": []
   },
   "outputs": [
    {
     "data": {
      "text/plain": [
       "17"
      ]
     },
     "execution_count": 1,
     "metadata": {},
     "output_type": "execute_result"
    }
   ],
   "source": [
    "(3*4)+5"
   ]
  },
  {
   "cell_type": "markdown",
   "id": "ba0c9f06-9483-41bc-8998-9012af60b345",
   "metadata": {},
   "source": [
    "This will convert 200 minutes to hours by diving by 60"
   ]
  },
  {
   "cell_type": "code",
   "execution_count": 3,
   "id": "bd4576ff-4d70-49a5-968f-01b9647b9b08",
   "metadata": {
    "tags": []
   },
   "outputs": [
    {
     "data": {
      "text/plain": [
       "3.3333333333333335"
      ]
     },
     "execution_count": 3,
     "metadata": {},
     "output_type": "execute_result"
    }
   ],
   "source": [
    "200/60"
   ]
  },
  {
   "cell_type": "markdown",
   "id": "e175ec58-849e-455a-8a3c-01b0de8c957a",
   "metadata": {},
   "source": [
    "## Author\n",
    "Patrick Villamor"
   ]
  },
  {
   "cell_type": "code",
   "execution_count": null,
   "id": "8d09018c-85f0-4017-aaf3-4497c834a465",
   "metadata": {},
   "outputs": [],
   "source": []
  }
 ],
 "metadata": {
  "kernelspec": {
   "display_name": "Python",
   "language": "python",
   "name": "conda-env-python-py"
  },
  "language_info": {
   "codemirror_mode": {
    "name": "ipython",
    "version": 3
   },
   "file_extension": ".py",
   "mimetype": "text/x-python",
   "name": "python",
   "nbconvert_exporter": "python",
   "pygments_lexer": "ipython3",
   "version": "3.7.12"
  }
 },
 "nbformat": 4,
 "nbformat_minor": 5
}
